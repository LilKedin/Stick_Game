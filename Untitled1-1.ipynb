{
 "cells": [
  {
   "cell_type": "code",
   "execution_count": null,
   "id": "8dd730ae",
   "metadata": {},
   "outputs": [
    {
     "name": "stdout",
     "output_type": "stream",
     "text": [
      "The number of objects is now?  20\n",
      "player  1\n",
      "What is your move? 3\n",
      "The number of objects is now  17\n",
      "player  2\n",
      "What is your move? 2\n",
      "The number of objects is now  15\n",
      "player  1\n",
      "What is your move? 4\n",
      "The number of objects is now  11\n",
      "player  2\n",
      "What is your move? 1\n",
      "The number of objects is now  10\n",
      "player  1\n",
      "What is your move? 4\n",
      "The number of objects is now  6\n",
      "player  2\n",
      "What is your move? 3\n",
      "The number of objects is now  3\n",
      "player  1\n",
      "What is your move? 3\n",
      "The number of objects is now  0\n",
      "player  2\n",
      "What is your move? 1\n",
      "The number of objects is now  -1\n",
      "You lost!\n",
      "player  1\n"
     ]
    }
   ],
   "source": [
    "# set player to 1\n",
    "player=1\n",
    "\n",
    "# set the initial state\n",
    "state=20 # number of objects\n",
    "print(\"The number of objects is now? \",state)\n",
    "while True:\n",
    "    # get valid move\n",
    "    print(\"player \",player)\n",
    "    while True:\n",
    "        move = input(\"What is your move? \")\n",
    "        move = int(move)\n",
    "       # if move in (1,2,3,4) and move < state:\n",
    "        #if move == 1 or move == 2 or move == 3 or move == 4:\n",
    "        if move < 5:\n",
    "            state = state - move\n",
    "            break\n",
    "        else:\n",
    "            print(\"Input should be between 1 and 4!\")\n",
    "        \n",
    "    # update the state\n",
    "    #state=state - move\n",
    "    \n",
    "    # show the state\n",
    "    print(\"The number of objects is now \",state)\n",
    "    \n",
    "    #Check win status - win, lose, stalemate\n",
    "    if state==1:\n",
    "        print(\"Player \",player,\"WINS.\")\n",
    "        break\n",
    "    \n",
    "    if state < 0:\n",
    "        print(\"You lost!\")\n",
    "    \n",
    "    #Switch players 2->1, 1->2  go back to the valid absmove line\n",
    "    if player==1:\n",
    "        player=2\n",
    "    else:\n",
    "        player=1\n",
    "        \n",
    "print(\"The Game is Over.\")"
   ]
  },
  {
   "cell_type": "code",
   "execution_count": null,
   "id": "bd93c317",
   "metadata": {},
   "outputs": [],
   "source": []
  },
  {
   "cell_type": "code",
   "execution_count": null,
   "id": "a7ac3d5c",
   "metadata": {},
   "outputs": [],
   "source": []
  }
 ],
 "metadata": {
  "kernelspec": {
   "display_name": "Python 3",
   "language": "python",
   "name": "python3"
  },
  "language_info": {
   "codemirror_mode": {
    "name": "ipython",
    "version": 3
   },
   "file_extension": ".py",
   "mimetype": "text/x-python",
   "name": "python",
   "nbconvert_exporter": "python",
   "pygments_lexer": "ipython3",
   "version": "3.8.8"
  }
 },
 "nbformat": 4,
 "nbformat_minor": 5
}
